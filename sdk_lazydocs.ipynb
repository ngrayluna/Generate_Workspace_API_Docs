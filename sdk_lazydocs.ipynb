{
 "cells": [
  {
   "cell_type": "code",
   "execution_count": 4,
   "metadata": {},
   "outputs": [],
   "source": [
    "import os\n",
    "import re\n",
    "import inspect\n",
    "\n",
    "import wandb \n",
    "import lazydocs"
   ]
  },
  {
   "cell_type": "markdown",
   "metadata": {},
   "source": [
    "Temporarily manually import __all__ from `__init__.pyi`"
   ]
  },
  {
   "cell_type": "code",
   "execution_count": 5,
   "metadata": {},
   "outputs": [],
   "source": [
    "module = wandb"
   ]
  },
  {
   "cell_type": "code",
   "execution_count": 6,
   "metadata": {},
   "outputs": [
    {
     "name": "stdout",
     "output_type": "stream",
     "text": [
      "There are 41 in __all__\n"
     ]
    }
   ],
   "source": [
    "__all__ = (\n",
    "    \"__version__\",\n",
    "    \"init\",\n",
    "    \"finish\",\n",
    "    \"setup\",\n",
    "    \"login\",\n",
    "    \"save\",\n",
    "    \"sweep\",\n",
    "    \"controller\",\n",
    "    \"agent\",\n",
    "    \"config\",\n",
    "    \"log\",\n",
    "    \"summary\",\n",
    "    \"Api\",\n",
    "    \"Graph\",\n",
    "    \"Image\",\n",
    "    \"Plotly\",\n",
    "    \"Video\",\n",
    "    \"Audio\",\n",
    "    \"Table\",\n",
    "    \"Html\",\n",
    "    \"box3d\",\n",
    "    \"Object3D\",\n",
    "    \"Molecule\",\n",
    "    \"Histogram\",\n",
    "    \"ArtifactTTL\",\n",
    "    \"log_artifact\",\n",
    "    \"use_artifact\",\n",
    "    \"log_model\",\n",
    "    \"use_model\",\n",
    "    \"link_model\",\n",
    "    \"define_metric\",\n",
    "    \"Error\",\n",
    "    \"termsetup\",\n",
    "    \"termlog\",\n",
    "    \"termerror\",\n",
    "    \"termwarn\",\n",
    "    \"Artifact\",\n",
    "    \"Settings\",\n",
    "    \"teardown\",\n",
    "    \"watch\",\n",
    "    \"unwatch\",\n",
    ")\n",
    "\n",
    "print(f\"There are {len(__all__)} in __all__\")"
   ]
  },
  {
   "cell_type": "code",
   "execution_count": null,
   "metadata": {},
   "outputs": [],
   "source": [
    "# Remove any from list that are supposed to be hidden\n",
    "dir_output = [name for name in dir(module) if not name.startswith('_')]\n",
    "\n",
    "# [value for value in dir_output if value in __all__]\n",
    "# Alphabetize the list\n",
    "api_list = sorted(list(set(dir_output) and set(__all__)))"
   ]
  },
  {
   "cell_type": "code",
   "execution_count": 11,
   "metadata": {},
   "outputs": [
    {
     "data": {
      "text/plain": [
       "['Api',\n",
       " 'Artifact',\n",
       " 'ArtifactTTL',\n",
       " 'Audio',\n",
       " 'Error',\n",
       " 'Graph',\n",
       " 'Histogram',\n",
       " 'Html',\n",
       " 'Image',\n",
       " 'Molecule',\n",
       " 'Object3D',\n",
       " 'Plotly',\n",
       " 'Settings',\n",
       " 'Table',\n",
       " 'Video',\n",
       " '__version__',\n",
       " 'agent',\n",
       " 'box3d',\n",
       " 'config',\n",
       " 'controller',\n",
       " 'define_metric',\n",
       " 'finish',\n",
       " 'init',\n",
       " 'link_model',\n",
       " 'log',\n",
       " 'log_artifact',\n",
       " 'log_model',\n",
       " 'login',\n",
       " 'save',\n",
       " 'setup',\n",
       " 'summary',\n",
       " 'sweep',\n",
       " 'teardown',\n",
       " 'termerror',\n",
       " 'termlog',\n",
       " 'termsetup',\n",
       " 'termwarn',\n",
       " 'unwatch',\n",
       " 'use_artifact',\n",
       " 'use_model',\n",
       " 'watch']"
      ]
     },
     "execution_count": 11,
     "metadata": {},
     "output_type": "execute_result"
    }
   ],
   "source": [
    "api_list"
   ]
  },
  {
   "cell_type": "markdown",
   "metadata": {},
   "source": [
    "---"
   ]
  },
  {
   "cell_type": "code",
   "execution_count": 8,
   "metadata": {},
   "outputs": [
    {
     "data": {
      "text/plain": [
       "\"<class 'function'>\""
      ]
     },
     "execution_count": 8,
     "metadata": {},
     "output_type": "execute_result"
    }
   ],
   "source": [
    "str(type(getattr(module, 'finish')))"
   ]
  },
  {
   "cell_type": "code",
   "execution_count": 9,
   "metadata": {},
   "outputs": [
    {
     "data": {
      "text/plain": [
       "\"<class 'type'>\""
      ]
     },
     "execution_count": 9,
     "metadata": {},
     "output_type": "execute_result"
    }
   ],
   "source": [
    "str(type(getattr(module, 'Artifact')))"
   ]
  },
  {
   "cell_type": "code",
   "execution_count": 10,
   "metadata": {},
   "outputs": [
    {
     "name": "stdout",
     "output_type": "stream",
     "text": [
      "Api <class 'wandb.apis.public.api.Api'> <class 'type'>\n",
      "\n",
      "Artifact <class 'wandb.sdk.artifacts.artifact.Artifact'> <class 'type'>\n",
      "\n",
      "ArtifactTTL <enum 'ArtifactTTL'> <class 'enum.EnumMeta'>\n",
      "\n",
      "Audio <class 'wandb.sdk.data_types.audio.Audio'> <class 'type'>\n",
      "\n",
      "Error <class 'wandb.errors.errors.Error'> <class 'type'>\n",
      "\n",
      "Graph <class 'wandb.sdk.data_types.graph.Graph'> <class 'type'>\n",
      "\n",
      "Histogram <class 'wandb.sdk.data_types.histogram.Histogram'> <class 'type'>\n",
      "\n",
      "Html <class 'wandb.sdk.data_types.html.Html'> <class 'type'>\n",
      "\n",
      "Image <class 'wandb.sdk.data_types.image.Image'> <class 'type'>\n",
      "\n",
      "Molecule <class 'wandb.sdk.data_types.molecule.Molecule'> <class 'type'>\n",
      "\n",
      "Object3D <class 'wandb.sdk.data_types.object_3d.Object3D'> <class 'type'>\n",
      "\n",
      "Plotly <class 'wandb.sdk.data_types.plotly.Plotly'> <class 'type'>\n",
      "\n",
      "Settings <class 'wandb.sdk.wandb_settings.Settings'> <class 'type'>\n",
      "\n",
      "Table <class 'wandb.sdk.data_types.table.Table'> <class 'type'>\n",
      "\n",
      "Video <class 'wandb.sdk.data_types.video.Video'> <class 'type'>\n",
      "\n",
      "__version__ 0.18.2 <class 'str'>\n",
      "\n",
      "agent <function agent at 0x1234e6680> <class 'function'>\n",
      "\n",
      "box3d <function box3d at 0x1213b84c0> <class 'function'>\n",
      "\n",
      "config <wandb.sdk.lib.preinit.PreInitObject object at 0x11799bc10> <class 'wandb.sdk.lib.preinit.PreInitObject'>\n",
      "\n",
      "controller <function controller at 0x1234e5090> <class 'function'>\n",
      "\n",
      "define_metric <function PreInitCallable.<locals>.preinit_wrapper at 0x1234e6d40> <class 'function'>\n",
      "\n",
      "finish <function finish at 0x1231e5900> <class 'function'>\n",
      "\n",
      "init <function init at 0x1234e49d0> <class 'function'>\n",
      "\n",
      "link_model <function PreInitCallable.<locals>.preinit_wrapper at 0x1234e6cb0> <class 'function'>\n",
      "\n",
      "log <function PreInitCallable.<locals>.preinit_wrapper at 0x1234e6950> <class 'function'>\n",
      "\n",
      "log_artifact <function PreInitCallable.<locals>.preinit_wrapper at 0x1234e6b00> <class 'function'>\n",
      "\n",
      "log_model <function PreInitCallable.<locals>.preinit_wrapper at 0x1234e6b90> <class 'function'>\n",
      "\n",
      "login <function login at 0x1230c9630> <class 'function'>\n",
      "\n",
      "save <function PreInitCallable.<locals>.preinit_wrapper at 0x1234e69e0> <class 'function'>\n",
      "\n",
      "setup <function setup at 0x1230c9090> <class 'function'>\n",
      "\n",
      "summary <wandb.sdk.lib.preinit.PreInitObject object at 0x1234e8c40> <class 'wandb.sdk.lib.preinit.PreInitObject'>\n",
      "\n",
      "sweep <function sweep at 0x1234e5000> <class 'function'>\n",
      "\n",
      "teardown <function teardown at 0x1230c9120> <class 'function'>\n",
      "\n",
      "termerror <function termerror at 0x117b98700> <class 'function'>\n",
      "\n",
      "termlog <function termlog at 0x1178adc60> <class 'function'>\n",
      "\n",
      "termsetup <function termsetup at 0x1178aee60> <class 'function'>\n",
      "\n",
      "termwarn <function termwarn at 0x117b98670> <class 'function'>\n",
      "\n",
      "unwatch <function unwatch at 0x1234e52d0> <class 'function'>\n",
      "\n",
      "use_artifact <function PreInitCallable.<locals>.preinit_wrapper at 0x1234e6a70> <class 'function'>\n",
      "\n",
      "use_model <function PreInitCallable.<locals>.preinit_wrapper at 0x1234e6c20> <class 'function'>\n",
      "\n",
      "watch <function watch at 0x1234e5240> <class 'function'>\n",
      "\n"
     ]
    }
   ],
   "source": [
    "for i in api_list:\n",
    "    obj = getattr(module, i)\n",
    "    print(i, obj, type(obj))\n",
    "    print()"
   ]
  },
  {
   "cell_type": "code",
   "execution_count": 106,
   "metadata": {},
   "outputs": [
    {
     "name": "stdout",
     "output_type": "stream",
     "text": [
      "This is class\n",
      "This is class\n",
      "Skipping <enum 'ArtifactTTL'>\n",
      "This is class\n",
      "This is class\n",
      "This is class\n",
      "This is class\n",
      "This is class\n",
      "This is class\n",
      "This is class\n",
      "This is class\n",
      "This is class\n",
      "This is class\n",
      "This is class\n",
      "This is class\n",
      "Skipping 0.18.2\n",
      "This is function\n",
      "This is function\n",
      "Skipping <wandb.sdk.lib.preinit.PreInitObject object at 0x106c4d6f0>\n",
      "This is function\n",
      "This is function\n",
      "This is function\n",
      "This is function\n",
      "This is function\n",
      "This is function\n",
      "This is function\n",
      "This is function\n",
      "This is function\n",
      "This is function\n",
      "This is function\n",
      "Skipping <wandb.sdk.lib.preinit.PreInitObject object at 0x10f3f3070>\n",
      "This is function\n",
      "This is function\n",
      "This is function\n",
      "This is function\n",
      "This is function\n",
      "This is function\n",
      "This is function\n",
      "This is function\n",
      "This is function\n",
      "This is function\n"
     ]
    }
   ],
   "source": [
    "for i in api_list:\n",
    "    obj = getattr(module, i)\n",
    "    if str(type(obj)) == \"<class 'type'>\":\n",
    "        print(\"This is class\")\n",
    "        # create_class_markdown()\n",
    "    elif str(type(obj)) == \"<class 'function'>\":\n",
    "        print(\"This is function\")\n",
    "        # create_function_markdown()\n",
    "    else:\n",
    "        print(f\"Skipping {obj}\")\n",
    "        continue\n",
    "        "
   ]
  },
  {
   "cell_type": "code",
   "execution_count": 14,
   "metadata": {},
   "outputs": [
    {
     "name": "stdout",
     "output_type": "stream",
     "text": [
      "Used for querying the wandb server.\n",
      "\n",
      "Examples:\n",
      "    Most common way to initialize\n",
      "    >>> wandb.Api()\n",
      "\n",
      "Arguments:\n",
      "    overrides: (dict) You can set `base_url` if you are using a wandb server\n",
      "        other than https://api.wandb.ai.\n",
      "        You can also set defaults for `entity`, `project`, and `run`.\n"
     ]
    }
   ],
   "source": [
    "str(inspect.getdoc(getattr(wandb, api_list[0])))"
   ]
  },
  {
   "cell_type": "code",
   "execution_count": null,
   "metadata": {},
   "outputs": [],
   "source": [
    "# for each object\n",
    "# create a new markdown file\n",
    "# use inspect to get the docstring\n",
    "# write the docstring to the markdown file"
   ]
  },
  {
   "cell_type": "markdown",
   "metadata": {},
   "source": [
    "Single page"
   ]
  },
  {
   "cell_type": "code",
   "execution_count": 42,
   "metadata": {},
   "outputs": [
    {
     "data": {
      "text/plain": [
       "'95'"
      ]
     },
     "execution_count": 42,
     "metadata": {},
     "output_type": "execute_result"
    }
   ],
   "source": [
    "str(inspect.getsourcelines(obj)[1])"
   ]
  },
  {
   "cell_type": "markdown",
   "metadata": {},
   "source": [
    "---"
   ]
  },
  {
   "cell_type": "code",
   "execution_count": 11,
   "metadata": {},
   "outputs": [],
   "source": [
    "module = wandb\n",
    "generator = lazydocs.MarkdownGenerator(src_base_url=\"https://github.com/wandb/wandb\")"
   ]
  },
  {
   "cell_type": "code",
   "execution_count": 13,
   "metadata": {},
   "outputs": [
    {
     "name": "stdout",
     "output_type": "stream",
     "text": [
      "This is class\n"
     ]
    }
   ],
   "source": [
    "def create_class_markdown(obj, module):\n",
    "    with open('testing.md', 'w') as file:\n",
    "        file.write(\"\\n\\n\")\n",
    "        file.write( 'source code line' +  str(inspect.getsourcelines(obj)[1]))\n",
    "        file.write(generator.class2md(obj))\n",
    "\n",
    "def create_function_markdown(obj, module):\n",
    "    with open('testing.md', 'w') as file:\n",
    "        file.write(\"\\n\\n\")\n",
    "        print(inspect.getsourcelines)\n",
    "        file.write(generator.function2md(obj))\n",
    "\n",
    "\n",
    "\n",
    "\n",
    "obj = getattr(module, api_list[0])\n",
    "if str(type(obj)) == \"<class 'type'>\":\n",
    "    print(\"This is class\")\n",
    "    create_class_markdown(obj, module)\n",
    "elif str(type(obj)) == \"<class 'function'>\":\n",
    "    print(\"This is function\")\n",
    "    create_function_markdown()\n",
    "else:\n",
    "    print(f\"Skipping {obj}\")\n",
    "    "
   ]
  },
  {
   "cell_type": "code",
   "execution_count": null,
   "metadata": {},
   "outputs": [],
   "source": []
  }
 ],
 "metadata": {
  "kernelspec": {
   "display_name": "wandb_workspaces",
   "language": "python",
   "name": "wandb_workspaces"
  },
  "language_info": {
   "codemirror_mode": {
    "name": "ipython",
    "version": 3
   },
   "file_extension": ".py",
   "mimetype": "text/x-python",
   "name": "python",
   "nbconvert_exporter": "python",
   "pygments_lexer": "ipython3",
   "version": "3.10.0"
  }
 },
 "nbformat": 4,
 "nbformat_minor": 2
}
